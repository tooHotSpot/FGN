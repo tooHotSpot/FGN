{
 "cells": [
  {
   "cell_type": "code",
   "execution_count": 1,
   "metadata": {
    "collapsed": true
   },
   "outputs": [
    {
     "name": "stdout",
     "output_type": "stream",
     "text": [
      "Train/test images total 55000 10000 65000\n"
     ]
    }
   ],
   "source": [
    "import os\n",
    "import numpy as np\n",
    "import matplotlib.pyplot as plt\n",
    "\n",
    "dir_train = 'C:\\\\Users\\\\Art\\\\PycharmProjects\\\\Course1\\\\yymnist\\\\mnist\\\\train'\n",
    "dir_test = 'C:\\\\Users\\\\Art\\\\PycharmProjects\\\\Course1\\\\yymnist\\\\mnist\\\\test'\n",
    "\n",
    "dir_train_list = os.listdir(dir_train)\n",
    "dir_test_list = os.listdir(dir_test)\n",
    "\n",
    "dir_train_len = len(dir_train_list)\n",
    "dir_test_len = len(dir_test_list)\n",
    "\n",
    "dir_both_list = dir_train_list + dir_test_list\n",
    "dir_both_len = len(dir_both_list)\n",
    "print('Train/test images total', dir_train_len, dir_test_len, dir_both_len)"
   ]
  },
  {
   "cell_type": "code",
   "execution_count": 2,
   "outputs": [
    {
     "name": "stdout",
     "output_type": "stream",
     "text": [
      "Combined  55000 10000 64015\n"
     ]
    }
   ],
   "source": [
    "strain = set(dir_train_list)\n",
    "stest = set(dir_test_list)\n",
    "sboth = set(dir_train_list + dir_test_list)\n",
    "print('Combined ', len(strain), len(stest), len(sboth))"
   ],
   "metadata": {
    "collapsed": false,
    "pycharm": {
     "name": "#%%\n"
    }
   }
  },
  {
   "cell_type": "code",
   "execution_count": 3,
   "outputs": [
    {
     "name": "stdout",
     "output_type": "stream",
     "text": [
      "Finished\n"
     ]
    }
   ],
   "source": [
    "strainclass = {}\n",
    "stestclass = {}\n",
    "sbothclass = {}\n",
    "\n",
    "for e in dir_train_list:\n",
    "    cat_id = e[0]\n",
    "    if cat_id not in strainclass:\n",
    "        strainclass[cat_id] = set()\n",
    "    strainclass[cat_id].add(e)\n",
    "\n",
    "for e in dir_test_list:\n",
    "    cat_id = e[0]\n",
    "    if cat_id not in stestclass:\n",
    "        stestclass[cat_id] = set()\n",
    "    stestclass[cat_id].add(e)\n",
    "\n",
    "for e in dir_both_list:\n",
    "    cat_id = e[0]\n",
    "    if cat_id not in sbothclass:\n",
    "        sbothclass[cat_id] = set()\n",
    "    sbothclass[cat_id].add(e)\n",
    "\n",
    "print('Finished')"
   ],
   "metadata": {
    "collapsed": false,
    "pycharm": {
     "name": "#%%\n"
    }
   }
  },
  {
   "cell_type": "code",
   "execution_count": 4,
   "outputs": [
    {
     "name": "stdout",
     "output_type": "stream",
     "text": [
      "Train amounts\n",
      "0:5444; 1:6179; 2:5470; 3:5638; 4:5307; 5:4987; 6:5417; 7:5715; 8:5389; 9:5454; \n",
      "Test amounts\n",
      "0:980 ; 1:1135; 2:1032; 3:1010; 4:982 ; 5:892 ; 6:958 ; 7:1028; 8:974 ; 9:1009; \n",
      "Combined amounts\n",
      "0:6326; 1:7192; 2:6397; 3:6539; 4:6192; 5:5814; 6:6287; 7:6634; 8:6257; 9:6377; \n"
     ]
    }
   ],
   "source": [
    "print('Train amounts')\n",
    "for cat_id in sorted(strainclass.keys()):\n",
    "    print(f'{cat_id}:{len(strainclass[cat_id]):<4}', end='; ')\n",
    "print()\n",
    "\n",
    "print('Test amounts')\n",
    "for cat_id in sorted(stestclass.keys()):\n",
    "    print(f'{cat_id}:{len(stestclass[cat_id]):<4}', end='; ')\n",
    "print()\n",
    "\n",
    "print('Combined amounts')\n",
    "for cat_id in sorted(sbothclass.keys()):\n",
    "    print(f'{cat_id}:{len(sbothclass[cat_id]):<4}', end='; ')\n",
    "print()"
   ],
   "metadata": {
    "collapsed": false,
    "pycharm": {
     "name": "#%%\n"
    }
   }
  },
  {
   "cell_type": "markdown",
   "source": [
    "### Check images same to each other"
   ],
   "metadata": {
    "collapsed": false,
    "pycharm": {
     "name": "#%% md\n"
    }
   }
  },
  {
   "cell_type": "code",
   "execution_count": 5,
   "outputs": [
    {
     "data": {
      "text/plain": "<Figure size 720x360 with 2 Axes>",
      "image/png": "[encoded data removed]"
     },
     "metadata": {
      "needs_background": "light"
     },
     "output_type": "display_data"
    }
   ],
   "source": [
    "cat_id = np.random.choice(list(strainclass.keys()))\n",
    "intersected_all = strainclass[cat_id] & stestclass[cat_id]\n",
    "intersected_one = np.random.choice(list(intersected_all))\n",
    "img_train = os.path.join(dir_train, intersected_one)\n",
    "img_test = os.path.join(dir_test, intersected_one)\n",
    "\n",
    "fig, ax = plt.subplots(1, 2, figsize=(10, 5))\n",
    "ax[0].imshow(plt.imread(img_train), cmap='gray')\n",
    "ax[1].imshow(plt.imread(img_test), cmap='gray')\n",
    "ax[0].set_title(img_train[len(dir_train):])\n",
    "ax[1].set_title(img_test[len(dir_test):])\n",
    "plt.show()"
   ],
   "metadata": {
    "collapsed": false,
    "pycharm": {
     "name": "#%%\n"
    }
   }
  },
  {
   "cell_type": "code",
   "execution_count": 6,
   "outputs": [],
   "source": [
    "exit()"
   ],
   "metadata": {
    "collapsed": false,
    "pycharm": {
     "name": "#%%\n"
    }
   }
  }
 ],
 "metadata": {
  "kernelspec": {
   "display_name": "Python 3",
   "language": "python",
   "name": "python3"
  },
  "language_info": {
   "codemirror_mode": {
    "name": "ipython",
    "version": 2
   },
   "file_extension": ".py",
   "mimetype": "text/x-python",
   "name": "python",
   "nbconvert_exporter": "python",
   "pygments_lexer": "ipython2",
   "version": "2.7.6"
  }
 },
 "nbformat": 4,
 "nbformat_minor": 0
}