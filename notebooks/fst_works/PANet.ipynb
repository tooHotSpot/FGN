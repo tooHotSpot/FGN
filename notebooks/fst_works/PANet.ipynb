{
 "nbformat": 4,
 "nbformat_minor": 0,
 "metadata": {
  "colab": {
   "name": "PANet.ipynb",
   "provenance": [],
   "collapsed_sections": []
  },
  "kernelspec": {
   "name": "pycharm-9845b065",
   "language": "python",
   "display_name": "PyCharm (Edu5)"
  },
  "accelerator": "GPU",
  "pycharm": {
   "stem_cell": {
    "cell_type": "raw",
    "source": [],
    "metadata": {
     "collapsed": false
    }
   }
  }
 },
 "cells": [
  {
   "cell_type": "code",
   "metadata": {
    "id": "lsRZ7KJLmjUG",
    "colab_type": "code",
    "outputId": "3cb26405-c27b-4309-fd32-f2fb53eef35b",
    "executionInfo": {
     "status": "ok",
     "timestamp": 1585939700970,
     "user_tz": -180,
     "elapsed": 24407,
     "user": {
      "displayName": "Amal Ametov",
      "photoUrl": "",
      "userId": "14517310397684371244"
     }
    },
    "colab": {
     "base_uri": "https://localhost:8080/",
     "height": 122
    },
    "pycharm": {
     "is_executing": false
    }
   },
   "source": [
    "from google.colab import drive\n",
    "drive.mount('/content/drive')"
   ],
   "execution_count": 1,
   "outputs": [
    {
     "traceback": [
      "\u001b[1;31m---------------------------------------------------------------------------\u001b[0m",
      "\u001b[1;31mModuleNotFoundError\u001b[0m                       Traceback (most recent call last)",
      "\u001b[1;32m<ipython-input-1-b80391d2b2cf>\u001b[0m in \u001b[0;36m<module>\u001b[1;34m\u001b[0m\n\u001b[1;32m----> 1\u001b[1;33m \u001b[1;32mfrom\u001b[0m \u001b[0mgoogle\u001b[0m\u001b[1;33m.\u001b[0m\u001b[0mcolab\u001b[0m \u001b[1;32mimport\u001b[0m \u001b[0mdrive\u001b[0m\u001b[1;33m\u001b[0m\u001b[0m\n\u001b[0m\u001b[0;32m      2\u001b[0m \u001b[0mdrive\u001b[0m\u001b[1;33m.\u001b[0m\u001b[0mmount\u001b[0m\u001b[1;33m(\u001b[0m\u001b[1;34m'/content/drive'\u001b[0m\u001b[1;33m)\u001b[0m\u001b[1;33m\u001b[0m\u001b[0m\n\u001b[0;32m      3\u001b[0m \u001b[1;33m\u001b[0m\u001b[0m\n",
      "\u001b[1;31mModuleNotFoundError\u001b[0m: No module named 'google.colab'"
     ],
     "ename": "ModuleNotFoundError",
     "evalue": "No module named 'google.colab'",
     "output_type": "error"
    }
   ]
  },
  {
   "cell_type": "code",
   "metadata": {
    "id": "y2hOLDGgl3Gr",
    "colab_type": "code",
    "colab": {},
    "pycharm": {
     "is_executing": false
    }
   },
   "source": [
    "# ! git clone https://github.com/kaixin96/PANet.git\n",
    "# ! wget https://download.pytorch.org/models/vgg16-397923af.pth\n",
    "# ! cp vgg16-397923af.pth \"drive/My Drive/Colab Notebooks\"\n",
    "# ! cp -r PANet \"drive/My Drive/Colab Notebooks/PANet Data\"\n",
    "# ! unzip \"drive/My Drive/Colab Notebooks/PANet/Data/*.zip\" -d \"drive/My Drive/Colab Notebooks/PANet/Data\"\n",
    "# ! ls \"drive/My Drive/Colab Notebooks/PANet/Data\""
   ],
   "execution_count": null,
   "outputs": []
  },
  {
   "cell_type": "code",
   "metadata": {
    "id": "WMw1J826K1oz",
    "colab_type": "code",
    "outputId": "f570f0cf-2c97-4e87-974b-41afee4f3185",
    "executionInfo": {
     "status": "ok",
     "timestamp": 1584810445969,
     "user_tz": -180,
     "elapsed": 2566,
     "user": {
      "displayName": "Amal Ametov",
      "photoUrl": "",
      "userId": "14517310397684371244"
     }
    },
    "colab": {
     "base_uri": "https://localhost:8080/",
     "height": 34
    },
    "pycharm": {
     "is_executing": false
    }
   },
   "source": [
    "# ! ls \"drive/My Drive/Colab Notebooks/PANet/Data/Segmentation.zip\""
   ],
   "execution_count": null,
   "outputs": []
  },
  {
   "cell_type": "code",
   "metadata": {
    "id": "mIwU9LUsl3Ji",
    "colab_type": "code",
    "outputId": "dc3badaa-69c7-4806-f1ba-9b7a15ffd992",
    "executionInfo": {
     "status": "ok",
     "timestamp": 1584864088564,
     "user_tz": -180,
     "elapsed": 9921,
     "user": {
      "displayName": "Amal Ametov",
      "photoUrl": "",
      "userId": "14517310397684371244"
     }
    },
    "colab": {
     "base_uri": "https://localhost:8080/",
     "height": 51
    },
    "pycharm": {
     "is_executing": false
    }
   },
   "source": [
    "# ! mkdir \"drive/My Drive/Colab Notebooks/PANet/VOCdevkit\"\n",
    "# ! mkdir \"drive/My Drive/Colab Notebooks/PANet/VOCdevkit/VOC2012\"\n",
    "# ! mkdir \"drive/My Drive/Colab Notebooks/PANet/VOCdevkit/VOC2012/ImageSets\"\n",
    "# ! mkdir \"drive/My Drive/Colab Notebooks/PANet/VOCdevkit/VOC2012/ImageSets/Segmentation\"\n",
    "\n",
    "# ! ls \"drive/My Drive/Colab Notebooks/PANet/VOCdevkit/VOC2012/ImageSets/Segmentation\"\n",
    "\n",
    "# SegmentationClassAug, SegmentationObjectAug, ScribbleAugAuto -> VOCdevkit/VOC2012\n",
    "# Segmentation -> VOCdevkit/VOC2012/ImageSets\n",
    "\n",
    "# ! mv \"drive/My Drive/Colab Notebooks/PANet/Data/Segmentation\" \"drive/My Drive/Colab Notebooks/PANet/VOCdevkit/VOC2012/ImageSets/Segmentation\"\n",
    "# ! mv \"drive/My Drive/Colab Notebooks/PANet/Data/SegmentationClassAug\" \"drive/My Drive/Colab Notebooks/PANet/VOCdevkit/VOC2012/SegmentationClassAug\"\n",
    "# ! mv \"drive/My Drive/Colab Notebooks/PANet/Data/SegmentationObjectAug\" \"drive/My Drive/Colab Notebooks/PANet/VOCdevkit/VOC2012/SegmentationObjectAug\"\n",
    "# ! mv \"drive/My Drive/Colab Notebooks/PANet/Data/ScribbleAugAuto\" \"drive/My Drive/Colab Notebooks/PANet/VOCdevkit/VOC2012/ScribbleAugAuto\"\n",
    "\n",
    "! ls \"drive/My Drive/Colab Notebooks/PANet/VOCdevkit/VOC2012/\"\n",
    "! ls \"drive/My Drive/Colab Notebooks/PANet/VOCdevkit/VOC2012/ImageSets\""
   ],
   "execution_count": null,
   "outputs": []
  },
  {
   "cell_type": "code",
   "metadata": {
    "id": "0RNoZVxsFL2i",
    "colab_type": "code",
    "colab": {},
    "pycharm": {
     "is_executing": false
    }
   },
   "source": [
    "# ! unzip \"drive/My Drive/Colab Notebooks/PANet/Data/Segmentation.zip\" -d \"drive/My Drive/Colab Notebooks/PANet/VOCdevkit/VOC2012/ImageSets/\"\n",
    "# ! unzip \"drive/My Drive/Colab Notebooks/PANet/Data/SegmentationClassAug.zip\" -d \"drive/My Drive/Colab Notebooks/PANet/VOCdevkit/VOC2012/\"\n",
    "# ! unzip \"drive/My Drive/Colab Notebooks/PANet/Data/SegmentationObjectAug.zip\" -d \"drive/My Drive/Colab Notebooks/PANet/VOCdevkit/VOC2012/\"\n",
    "# ! unzip \"drive/My Drive/Colab Notebooks/PANet/Data/ScribbleAugAuto.zip\" -d \"drive/My Drive/Colab Notebooks/PANet/VOCdevkit/VOC2012/\""
   ],
   "execution_count": null,
   "outputs": []
  },
  {
   "cell_type": "code",
   "metadata": {
    "id": "YFfDDW4YFMB2",
    "colab_type": "code",
    "colab": {},
    "pycharm": {
     "is_executing": false
    }
   },
   "source": [],
   "execution_count": null,
   "outputs": []
  },
  {
   "cell_type": "code",
   "metadata": {
    "id": "KmOsXaZ7FME0",
    "colab_type": "code",
    "outputId": "6184e39f-c1c2-424b-f0a2-371a11887bb8",
    "executionInfo": {
     "status": "ok",
     "timestamp": 1585939712964,
     "user_tz": -180,
     "elapsed": 7456,
     "user": {
      "displayName": "Amal Ametov",
      "photoUrl": "",
      "userId": "14517310397684371244"
     }
    },
    "colab": {
     "base_uri": "https://localhost:8080/",
     "height": 612
    },
    "pycharm": {
     "is_executing": false
    }
   },
   "source": [
    "# ! mkdir \"drive/My Drive/Colab Notebooks/PANet/pretrained_model\"\n",
    "# ! mv \"drive/My Drive/Colab Notebooks/vgg16-397923af.pth\" \"drive/My Drive/Colab Notebooks/PANet/pretrained_model\"\n",
    "! pip3 install sacred"
   ],
   "execution_count": null,
   "outputs": []
  },
  {
   "cell_type": "code",
   "metadata": {
    "id": "b9dFbW7pRIDw",
    "colab_type": "code",
    "outputId": "01671d5d-80dc-47e9-b7e1-76c9bb69651d",
    "executionInfo": {
     "status": "ok",
     "timestamp": 1585939731082,
     "user_tz": -180,
     "elapsed": 986,
     "user": {
      "displayName": "Amal Ametov",
      "photoUrl": "",
      "userId": "14517310397684371244"
     }
    },
    "colab": {
     "base_uri": "https://localhost:8080/",
     "height": 71
    },
    "pycharm": {
     "is_executing": false
    }
   },
   "source": [
    "import os\n",
    "print('Before: ', os.listdir())\n",
    "os.chdir('drive/My Drive/Colab Notebooks/PANet/')\n",
    "print(os.listdir())"
   ],
   "execution_count": null,
   "outputs": []
  },
  {
   "cell_type": "code",
   "metadata": {
    "id": "i9BR1nUvbxaC",
    "colab_type": "code",
    "outputId": "67b56bd5-4ac1-4c85-b1bf-9952f5875068",
    "executionInfo": {
     "status": "ok",
     "timestamp": 1585939741833,
     "user_tz": -180,
     "elapsed": 2261,
     "user": {
      "displayName": "Amal Ametov",
      "photoUrl": "",
      "userId": "14517310397684371244"
     }
    },
    "colab": {
     "base_uri": "https://localhost:8080/",
     "height": 51
    },
    "pycharm": {
     "is_executing": false
    }
   },
   "source": [
    "! ls data/Trained\\ Models"
   ],
   "execution_count": null,
   "outputs": []
  },
  {
   "cell_type": "code",
   "metadata": {
    "id": "yVJQYP5jRYhN",
    "colab_type": "code",
    "colab": {},
    "pycharm": {
     "is_executing": false
    }
   },
   "source": [
    "# ! ls data/Trained\\ Models\n",
    "# './runs/PANet_VOC_sets_0_1way_1shot_[train]/1/snapshots/30000.pth'\n",
    "# ! python3 train.py with gpu_id=0\n",
    "! python3 train.py with gpu_id=0"
   ],
   "execution_count": null,
   "outputs": []
  },
  {
   "cell_type": "code",
   "metadata": {
    "id": "b2fVZq7-cvaV",
    "colab_type": "code",
    "colab": {},
    "pycharm": {
     "is_executing": false
    }
   },
   "source": [
    "# ! wget 'http://pjreddie.com/media/files/VOCtrainval_11-May-2012.tar' # 24m 2s\n",
    "# ! tar -xvf VOCtrainval_11-May-2012.tar --directory data/Pascal/"
   ],
   "execution_count": null,
   "outputs": []
  },
  {
   "cell_type": "code",
   "metadata": {
    "id": "vVJOoVCzWXnd",
    "colab_type": "code",
    "outputId": "73148f77-2763-4bdc-efbb-3eee6c609c4a",
    "executionInfo": {
     "status": "ok",
     "timestamp": 1584865873440,
     "user_tz": -180,
     "elapsed": 7917,
     "user": {
      "displayName": "Amal Ametov",
      "photoUrl": "",
      "userId": "14517310397684371244"
     }
    },
    "colab": {
     "base_uri": "https://localhost:8080/",
     "height": 68
    },
    "pycharm": {
     "is_executing": false
    }
   },
   "source": [
    "# ! ls VOCdevkit/VOC2012/ImageSets/Segmentation/\n",
    "# ! echo '*\\n'\n",
    "# ! ls data/VOCdevkit/VOC2012/ImageSets/Segmentation/\n",
    "# ! mkdir data/Pascal\n",
    "# ! mv VOCdevkit data/Pascal/\n",
    "! ls data/Pascal/VOCdevkit/VOC2012/ImageSets/Segmentation/\n",
    "! ls data/Pascal/VOCdevkit/VOC2012/ImageSets/\n",
    "! ls data/Pascal/VOCdevkit/VOC2012/\n",
    "# os.listdir('Data/')"
   ],
   "execution_count": null,
   "outputs": []
  },
  {
   "cell_type": "code",
   "metadata": {
    "id": "bj34XxO8asLc",
    "colab_type": "code",
    "outputId": "13fda7d9-5d85-488d-e02c-da858cc78771",
    "executionInfo": {
     "status": "ok",
     "timestamp": 1584866738424,
     "user_tz": -180,
     "elapsed": 3151,
     "user": {
      "displayName": "Amal Ametov",
      "photoUrl": "",
      "userId": "14517310397684371244"
     }
    },
    "colab": {
     "base_uri": "https://localhost:8080/",
     "height": 51
    },
    "pycharm": {
     "is_executing": false
    }
   },
   "source": [
    "! ls data/Trained\\ Models"
   ],
   "execution_count": null,
   "outputs": []
  },
  {
   "cell_type": "code",
   "execution_count": 4,
   "outputs": [
    {
     "name": "stdout",
     "text": [
      "42\n"
     ],
     "output_type": "stream"
    }
   ],
   "source": [
    "import numpy as np\n",
    "a = np.random.randint(100)\n",
    "print(a)\n",
    "\n"
   ],
   "metadata": {
    "collapsed": false,
    "pycharm": {
     "name": "#%%\n",
     "is_executing": false
    }
   }
  }
 ]
}