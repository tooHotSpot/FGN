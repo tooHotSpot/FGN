{
 "nbformat": 4,
 "nbformat_minor": 0,
 "metadata": {
  "colab": {
   "name": "MetaR-CNNDownload.ipynb",
   "provenance": [],
   "collapsed_sections": [],
   "authorship_tag": "ABX9TyOCqZmZ4DdPRiIV1tDghYKX"
  },
  "kernelspec": {
   "name": "python3",
   "display_name": "Python 3"
  },
  "widgets": {
   "application/vnd.jupyter.widget-state+json": {
    "61d27d7f32d742e397480e55bd16eaf6": {
     "model_module": "@jupyter-widgets/output",
     "model_name": "OutputModel",
     "state": {
      "_view_name": "OutputView",
      "msg_id": "",
      "_dom_classes": [],
      "_model_name": "OutputModel",
      "outputs": [],
      "_view_module": "@jupyter-widgets/output",
      "_model_module_version": "1.0.0",
      "_view_count": null,
      "_view_module_version": "1.0.0",
      "layout": "IPY_MODEL_98fe3e3e61ea4673bd0e7776d7c09140",
      "_model_module": "@jupyter-widgets/output"
     }
    },
    "98fe3e3e61ea4673bd0e7776d7c09140": {
     "model_module": "@jupyter-widgets/base",
     "model_name": "LayoutModel",
     "state": {
      "_view_name": "LayoutView",
      "grid_template_rows": null,
      "right": null,
      "justify_content": null,
      "_view_module": "@jupyter-widgets/base",
      "overflow": null,
      "_model_module_version": "1.2.0",
      "_view_count": null,
      "flex_flow": null,
      "width": null,
      "min_width": null,
      "border": null,
      "align_items": null,
      "bottom": null,
      "_model_module": "@jupyter-widgets/base",
      "top": null,
      "grid_column": null,
      "overflow_y": null,
      "overflow_x": null,
      "grid_auto_flow": null,
      "grid_area": null,
      "grid_template_columns": null,
      "flex": null,
      "_model_name": "LayoutModel",
      "justify_items": null,
      "grid_row": null,
      "max_height": null,
      "align_content": null,
      "visibility": null,
      "align_self": null,
      "height": null,
      "min_height": null,
      "padding": null,
      "grid_auto_rows": null,
      "grid_gap": null,
      "max_width": null,
      "order": null,
      "_view_module_version": "1.2.0",
      "grid_template_areas": null,
      "object_position": null,
      "object_fit": null,
      "grid_auto_columns": null,
      "margin": null,
      "display": null,
      "left": null
     }
    }
   }
  }
 },
 "cells": [
  {
   "cell_type": "code",
   "metadata": {
    "id": "555Qyhp9k92W",
    "colab_type": "code",
    "colab": {
     "base_uri": "https://localhost:8080/",
     "height": 17,
     "referenced_widgets": [
      "61d27d7f32d742e397480e55bd16eaf6",
      "98fe3e3e61ea4673bd0e7776d7c09140"
     ]
    },
    "outputId": "fede7b36-e010-41f0-e2c7-d75c93a5982a",
    "executionInfo": {
     "status": "ok",
     "timestamp": 1586865923733,
     "user_tz": -180,
     "elapsed": 1590,
     "user": {
      "displayName": "Amal Ametov",
      "photoUrl": "",
      "userId": "18222697251652875430"
     }
    }
   },
   "source": [
    "# https://github.com/jupyter-widgets/ipywidgets/issues/1744\n",
    "from IPython.display import clear_output\n",
    "from ipywidgets import IntSlider, Output\n",
    "from IPython.display import display\n",
    "\n",
    "# display(IntSlider())\n",
    "out = Output()\n",
    "display(out)\n",
    "\n",
    "with out:\n",
    "    print('hi')\n",
    "with out:\n",
    "    clear_output()"
   ],
   "execution_count": null,
   "outputs": []
  },
  {
   "cell_type": "code",
   "metadata": {
    "id": "IBHv9Ka8lEqv",
    "colab_type": "code",
    "colab": {}
   },
   "source": [
    "from google.colab import drive\n",
    "drive.mount('/content/drive')\n",
    "clear_output()"
   ],
   "execution_count": null,
   "outputs": []
  },
  {
   "cell_type": "code",
   "metadata": {
    "id": "QggmrhtLlGf6",
    "colab_type": "code",
    "colab": {}
   },
   "source": [
    "import os\n",
    "colab_home = '/content/drive/My Drive/Colab Notebooks'\n",
    "os.chdir(colab_home)"
   ],
   "execution_count": null,
   "outputs": []
  },
  {
   "cell_type": "code",
   "metadata": {
    "id": "XYSAT_83lPH2",
    "colab_type": "code",
    "colab": {
     "base_uri": "https://localhost:8080/",
     "height": 136
    },
    "outputId": "096c1aa7-c9a6-4b47-f551-1617898d18de",
    "executionInfo": {
     "status": "ok",
     "timestamp": 1586865989788,
     "user_tz": -180,
     "elapsed": 6100,
     "user": {
      "displayName": "Amal Ametov",
      "photoUrl": "",
      "userId": "18222697251652875430"
     }
    }
   },
   "source": [
    "! git clone https://github.com/yanxp/MetaR-CNN.git"
   ],
   "execution_count": null,
   "outputs": []
  },
  {
   "cell_type": "code",
   "metadata": {
    "id": "aA_d1YA0lYUf",
    "colab_type": "code",
    "colab": {}
   },
   "source": [
    "# Compile the CUDA dependencies:\n",
    "\n",
    "# ! cd {repo_root}/lib\n",
    "os.chdir(colab_home + '/MetaR-CNN')\n",
    "! sh make.sh"
   ],
   "execution_count": null,
   "outputs": []
  },
  {
   "cell_type": "code",
   "metadata": {
    "id": "2YiCajYSto_L",
    "colab_type": "code",
    "colab": {}
   },
   "source": [
    ""
   ],
   "execution_count": null,
   "outputs": []
  }
 ]
}