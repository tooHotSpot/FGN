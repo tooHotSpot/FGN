{
 "nbformat": 4,
 "nbformat_minor": 0,
 "metadata": {
  "colab": {
   "name": "DownloadReleases.ipynb",
   "provenance": [],
   "collapsed_sections": [],
   "authorship_tag": "ABX9TyOaMiu7oraEaR2uFCS0Ligl"
  },
  "kernelspec": {
   "name": "python3",
   "display_name": "Python 3"
  }
 },
 "cells": [
  {
   "cell_type": "code",
   "metadata": {
    "id": "oq3Ca4cXeR6L",
    "colab_type": "code",
    "colab": {
     "base_uri": "https://localhost:8080/",
     "height": 122
    },
    "outputId": "8479398b-01d1-46a5-bb1c-086232427191",
    "executionInfo": {
     "status": "ok",
     "timestamp": 1586864183194,
     "user_tz": -180,
     "elapsed": 30806,
     "user": {
      "displayName": "Amal Ametov",
      "photoUrl": "",
      "userId": "18222697251652875430"
     }
    }
   },
   "source": [
    "from google.colab import drive\n",
    "drive.mount('/content/drive')"
   ],
   "execution_count": null,
   "outputs": []
  },
  {
   "cell_type": "code",
   "metadata": {
    "id": "nzIkfWmbef3C",
    "colab_type": "code",
    "colab": {}
   },
   "source": [
    "import os\n",
    "\n",
    "colab_home = '/content/drive/My Drive/Colab Notebooks/checkpoints'\n",
    "os.chdir(colab_home)\n"
   ],
   "execution_count": null,
   "outputs": []
  },
  {
   "cell_type": "code",
   "metadata": {
    "id": "pBpShPrJfL1w",
    "colab_type": "code",
    "colab": {}
   },
   "source": [
    "! wget https://github.com/bethgelab/siamese-mask-rcnn/releases/download/v0.2/large_mrcnn_coco_full_0320.h5\n",
    "! wget https://github.com/bethgelab/siamese-mask-rcnn/releases/download/v0.2/large_siamese_mrcnn_coco_full_0320.h5\n",
    "! wget https://github.com/bethgelab/siamese-mask-rcnn/releases/download/v0.2/large_siamese_mrcnn_coco_i1_0160.h5\n",
    "! wget https://github.com/bethgelab/siamese-mask-rcnn/releases/download/v0.2/large_siamese_mrcnn_coco_i2_0160.h5\n",
    "! wget https://github.com/bethgelab/siamese-mask-rcnn/releases/download/v0.2/large_siamese_mrcnn_coco_i3_0160.h5\n",
    "! wget https://github.com/bethgelab/siamese-mask-rcnn/releases/download/v0.2/large_siamese_mrcnn_coco_i4_0160.h5"
   ],
   "execution_count": null,
   "outputs": []
  }
 ]
}