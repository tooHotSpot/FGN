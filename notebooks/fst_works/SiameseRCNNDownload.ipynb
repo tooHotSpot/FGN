{
 "nbformat": 4,
 "nbformat_minor": 0,
 "metadata": {
  "colab": {
   "name": "SiameseRCNNDownload.ipynb",
   "provenance": [],
   "collapsed_sections": [],
   "toc_visible": true
  },
  "kernelspec": {
   "name": "python3",
   "display_name": "Python 3"
  },
  "widgets": {
   "application/vnd.jupyter.widget-state+json": {
    "ef2322b2be4840a99da89fe35c83f3fe": {
     "model_module": "@jupyter-widgets/output",
     "model_name": "OutputModel",
     "state": {
      "_view_name": "OutputView",
      "msg_id": "",
      "_dom_classes": [],
      "_model_name": "OutputModel",
      "outputs": [],
      "_view_module": "@jupyter-widgets/output",
      "_model_module_version": "1.0.0",
      "_view_count": null,
      "_view_module_version": "1.0.0",
      "layout": "IPY_MODEL_e80191cddfc64a9fa8ec23b4bc0827bd",
      "_model_module": "@jupyter-widgets/output"
     }
    },
    "e80191cddfc64a9fa8ec23b4bc0827bd": {
     "model_module": "@jupyter-widgets/base",
     "model_name": "LayoutModel",
     "state": {
      "_view_name": "LayoutView",
      "grid_template_rows": null,
      "right": null,
      "justify_content": null,
      "_view_module": "@jupyter-widgets/base",
      "overflow": null,
      "_model_module_version": "1.2.0",
      "_view_count": null,
      "flex_flow": null,
      "width": null,
      "min_width": null,
      "border": null,
      "align_items": null,
      "bottom": null,
      "_model_module": "@jupyter-widgets/base",
      "top": null,
      "grid_column": null,
      "overflow_y": null,
      "overflow_x": null,
      "grid_auto_flow": null,
      "grid_area": null,
      "grid_template_columns": null,
      "flex": null,
      "_model_name": "LayoutModel",
      "justify_items": null,
      "grid_row": null,
      "max_height": null,
      "align_content": null,
      "visibility": null,
      "align_self": null,
      "height": null,
      "min_height": null,
      "padding": null,
      "grid_auto_rows": null,
      "grid_gap": null,
      "max_width": null,
      "order": null,
      "_view_module_version": "1.2.0",
      "grid_template_areas": null,
      "object_position": null,
      "object_fit": null,
      "grid_auto_columns": null,
      "margin": null,
      "display": null,
      "left": null
     }
    }
   }
  }
 },
 "cells": [
  {
   "cell_type": "code",
   "metadata": {
    "id": "A3sFp5PvhCCW",
    "colab_type": "code",
    "outputId": "04d1d67b-ff3e-46ab-ade7-6c5ec02560ad",
    "colab": {
     "base_uri": "https://localhost:8080/",
     "height": 16,
     "referenced_widgets": [
      "ef2322b2be4840a99da89fe35c83f3fe",
      "e80191cddfc64a9fa8ec23b4bc0827bd"
     ]
    }
   },
   "source": [
    "# https://github.com/jupyter-widgets/ipywidgets/issues/1744\n",
    "from IPython.display import clear_output\n",
    "from ipywidgets import IntSlider, Output\n",
    "from IPython.display import display\n",
    "# display(IntSlider())\n",
    "out = Output()\n",
    "display(out)\n",
    "with out:\n",
    "    print('hi')\n",
    "with out:\n",
    "    clear_output()"
   ],
   "execution_count": null,
   "outputs": []
  },
  {
   "cell_type": "code",
   "metadata": {
    "id": "kPl9NUyGIe9z",
    "colab_type": "code",
    "colab": {
     "base_uri": "https://localhost:8080/",
     "height": 158
    },
    "outputId": "ff589032-24df-42e6-cb8d-978cd5d72fbf"
   },
   "source": [
    "import os\n",
    "\n",
    "colab_home = '/content/drive/My Drive/Colab Notebooks'\n",
    "os.chdir(colab_home)\n",
    "coco_dataset_home = colab_home + '/coco'\n",
    "net_home = colab_home + '/siamese-mask-rcnn'\n",
    "net_data_home = net_home + '/data'\n",
    "cocoapi_home = net_data_home + '/cocoapi'\n",
    "\n",
    "# Clone siamese-mask-rcnn\n",
    "! git clone https://github.com/bethgelab/siamese-mask-rcnn.git\n",
    "# Some packages will be incompatible with numpy=1.14.1  and imgaug=0.2.9\n",
    "! pip list | grep -E -- 'numpy|Cython|scikit-image|keras|h5py|imgaug|opencv-python'\n",
    "# ! sudo pip install numpy=1.14.1 cython scikit_image==0.13.1 keras==2.1.6 h5py imgaug opencv_python"
   ],
   "execution_count": null,
   "outputs": []
  },
  {
   "cell_type": "code",
   "metadata": {
    "id": "piARUU0yFtpK",
    "colab_type": "code",
    "colab": {}
   },
   "source": [
    "from google.colab import drive\n",
    "drive.mount('/content/drive')\n",
    "clear_output()"
   ],
   "execution_count": null,
   "outputs": []
  },
  {
   "cell_type": "code",
   "metadata": {
    "id": "vCw-yH6yVVOY",
    "colab_type": "code",
    "colab": {}
   },
   "source": [
    "os.chdir(colab_home)\n",
    "! wget http://images.cocodataset.org/zips/train2017.zip\n",
    "! wget http://images.cocodataset.org/zips/val2017.zip\n",
    "! wget http://images.cocodataset.org/annotations/panoptic_annotations_trainval2017.zip"
   ],
   "execution_count": null,
   "outputs": []
  },
  {
   "cell_type": "code",
   "metadata": {
    "id": "U6SPe4q7Z1YJ",
    "colab_type": "code",
    "outputId": "d62ed715-9047-4ce4-b360-62563b03c0ff",
    "colab": {
     "base_uri": "https://localhost:8080/",
     "height": 34
    }
   },
   "source": [
    "# ! unzip -q '/content/drive/My Drive/Colab Notebooks/train2017.zip' -d /content/ \n",
    "# ! unzip -q '/content/drive/My Drive/Colab Notebooks/val2017.zip' -d /content/ \n",
    "# ! unzip -q '/content/drive/My Drive/Colab Notebooks/panoptic_annotations_trainval2017.zip' -d /content/ "
   ],
   "execution_count": null,
   "outputs": []
  },
  {
   "cell_type": "code",
   "metadata": {
    "id": "hNkizswbrwEC",
    "colab_type": "code",
    "outputId": "ad53491d-85c4-44d6-f6c1-2cde05a0cd6f",
    "colab": {
     "base_uri": "https://localhost:8080/",
     "height": 34
    }
   },
   "source": [
    "# ! rm -rf /content/train2017/ \n",
    "# print(len(os.listdir('/content/train2017')))\n",
    "print(len(os.listdir('/content/val2017')))"
   ],
   "execution_count": null,
   "outputs": []
  },
  {
   "cell_type": "code",
   "metadata": {
    "id": "ixc8RbSj1hNU",
    "colab_type": "code",
    "colab": {}
   },
   "source": [
    "! ls"
   ],
   "execution_count": null,
   "outputs": []
  },
  {
   "cell_type": "code",
   "metadata": {
    "id": "fX5U3yIWtwAl",
    "colab_type": "code",
    "outputId": "3e7f523c-ce5d-4489-a1fb-b28f5888e1a5",
    "colab": {
     "base_uri": "https://localhost:8080/",
     "height": 70
    }
   },
   "source": [
    "import tensorflow as tf\n",
    "# tf.logging.set_verbosity(tf.logging.INFO)\n",
    "# sess_config = tf.ConfigProto()\n",
    "tf.compat.v1.logging.set_verbosity(tf.compat.v1.logging.INFO)\n",
    "sess_config = tf.compat.v1.ConfigProto()\n",
    "\n",
    "import sys\n",
    "import os\n",
    "\n",
    "# COCO_DATA = 'data/coco'\n",
    "COCO_DATA = '/content/train2017'\n",
    "os.chdir(net_home)\n",
    "MASK_RCNN_MODEL_PATH = 'lib/Mask_RCNN/'\n",
    "\n",
    "if MASK_RCNN_MODEL_PATH not in sys.path:\n",
    "    sys.path.append(MASK_RCNN_MODEL_PATH)\n",
    "    \n",
    "from samples.coco import coco\n",
    "from mrcnn import utils\n",
    "from mrcnn import model as modellib\n",
    "from mrcnn import visualize\n",
    "    \n",
    "from lib import utils as siamese_utils\n",
    "from lib import model as siamese_model\n",
    "from lib import config as siamese_config\n",
    "   \n",
    "import time\n",
    "import datetime\n",
    "import random\n",
    "import numpy as np\n",
    "import skimage.io\n",
    "import imgaug\n",
    "import pickle\n",
    "import matplotlib.pyplot as plt\n",
    "from collections import OrderedDict\n",
    "\n",
    "# Root directory of the project\n",
    "ROOT_DIR = os.getcwd()\n",
    "\n",
    "# Directory to save logs and trained model\n",
    "MODEL_DIR = os.path.join(ROOT_DIR, \"logs\")"
   ],
   "execution_count": null,
   "outputs": []
  },
  {
   "cell_type": "code",
   "metadata": {
    "id": "03pgVD0Nx29U",
    "colab_type": "code",
    "colab": {}
   },
   "source": [
    "if MASK_RCNN_MODEL_PATH not in sys.path:\n",
    "    sys.path.append(MASK_RCNN_MODEL_PATH)"
   ],
   "execution_count": null,
   "outputs": []
  },
  {
   "cell_type": "code",
   "metadata": {
    "id": "N5VnhIYJx4H0",
    "colab_type": "code",
    "outputId": "1960eaa9-98b0-4254-e920-fb80617c8e56",
    "colab": {
     "base_uri": "https://localhost:8080/",
     "height": 442
    }
   },
   "source": [
    "# Error with some used packages\n",
    "# from lib.Mask_RCNN.samples.coco import coco"
   ],
   "execution_count": null,
   "outputs": []
  }
 ]
}