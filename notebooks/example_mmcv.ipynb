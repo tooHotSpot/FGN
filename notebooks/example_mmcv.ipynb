{
 "cells": [
  {
   "cell_type": "code",
   "execution_count": 1,
   "metadata": {
    "collapsed": true
   },
   "outputs": [],
   "source": [
    "import os\n",
    "from mmcv import Config"
   ]
  },
  {
   "cell_type": "code",
   "execution_count": 2,
   "outputs": [],
   "source": [
    "\n",
    "configs_dir_fp = os.path.join('mmcv_example_configs')\n",
    "config_a_fp = os.path.join(configs_dir_fp, 'config_a.py')\n",
    "config_b_fp = os.path.join(configs_dir_fp, 'config_b.py')\n",
    "config_c_fp = os.path.join(configs_dir_fp, 'config_c.py')\n",
    "config_d_fp = os.path.join(configs_dir_fp, 'config_d.py')\n",
    "\n",
    "cfg_a = Config.fromfile(config_a_fp)\n",
    "cfg_b = Config.fromfile(config_b_fp)\n",
    "cfg_c = Config.fromfile(config_c_fp)\n",
    "cfg_d = Config.fromfile(config_d_fp)"
   ],
   "metadata": {
    "collapsed": false,
    "pycharm": {
     "name": "#%%\n"
    }
   }
  },
  {
   "cell_type": "code",
   "execution_count": 3,
   "outputs": [
    {
     "name": "stdout",
     "output_type": "stream",
     "text": [
      "Config A\n",
      "a = 1\n",
      "b = dict(b1=[0, 1, 2], b2=None)\n",
      "\n",
      "Config B\n",
      "a = 1\n",
      "b = dict(b1=[0, 1, 2], b2=None)\n",
      "c = (1, 2)\n",
      "d = 'string'\n",
      "\n",
      "Config C\n",
      "e = [0.5, 1.0]\n",
      "f = 'Bavaria'\n",
      "\n",
      "Config D\n",
      "a = 1\n",
      "b = dict(b1=[0, 1, 2], b2=None)\n",
      "c = (1, 2)\n",
      "d = 'string'\n",
      "e = [0.5, 1.0]\n",
      "f = 'Bavaria'\n",
      "\n"
     ]
    }
   ],
   "source": [
    "print('Config A')\n",
    "print(cfg_a.pretty_text)\n",
    "print('Config B')\n",
    "print(cfg_b.pretty_text)\n",
    "print('Config C')\n",
    "print(cfg_c.pretty_text)\n",
    "print('Config D')\n",
    "print(cfg_d.pretty_text)"
   ],
   "metadata": {
    "collapsed": false,
    "pycharm": {
     "name": "#%%\n"
    }
   }
  },
  {
   "cell_type": "code",
   "execution_count": 4,
   "outputs": [],
   "source": [
    "\n",
    "from mmcv_converters.converter1 import CONVERTERS\n",
    "from mmcv_converters.converter2 import CONVERTERS_BUILDER"
   ],
   "metadata": {
    "collapsed": false,
    "pycharm": {
     "name": "#%%\n"
    }
   }
  },
  {
   "cell_type": "code",
   "execution_count": 5,
   "outputs": [],
   "source": [
    "converter_cfg = dict(type='Converter1', a=5, b=10)\n",
    "converter = CONVERTERS.build(converter_cfg)\n",
    "converter2_cfg = dict(type='Converter2', c=8, d=98)\n",
    "converter2 = CONVERTERS_BUILDER.build(converter2_cfg)"
   ],
   "metadata": {
    "collapsed": false,
    "pycharm": {
     "name": "#%%\n"
    }
   }
  },
  {
   "cell_type": "code",
   "execution_count": 6,
   "outputs": [
    {
     "name": "stdout",
     "output_type": "stream",
     "text": [
      "Registry(name=converter, items={'Converter1': <class 'mmcv_converters.converter1.Converter1'>})\n",
      "{'Converter1': <class 'mmcv_converters.converter1.Converter1'>}\n",
      "Fields 5 10\n"
     ]
    }
   ],
   "source": [
    "print(CONVERTERS)\n",
    "print(CONVERTERS.module_dict)\n",
    "print('Fields', converter.a, converter.b)"
   ],
   "metadata": {
    "collapsed": false,
    "pycharm": {
     "name": "#%%\n"
    }
   }
  },
  {
   "cell_type": "code",
   "execution_count": 7,
   "outputs": [
    {
     "name": "stdout",
     "output_type": "stream",
     "text": [
      "Registry(name=converter_with_builder, items={'Converter2': <class 'mmcv_converters.converter2.Converter2'>})\n",
      "{'Converter2': <class 'mmcv_converters.converter2.Converter2'>}\n",
      "Fields 8 98\n"
     ]
    }
   ],
   "source": [
    "print(CONVERTERS_BUILDER)\n",
    "print(CONVERTERS_BUILDER.module_dict)\n",
    "print('Fields', converter2.new_c, converter2.new_d)"
   ],
   "metadata": {
    "collapsed": false,
    "pycharm": {
     "name": "#%%\n"
    }
   }
  },
  {
   "cell_type": "code",
   "execution_count": 8,
   "outputs": [
    {
     "ename": "AttributeError",
     "evalue": "'NoneType' object has no attribute '__name__'",
     "output_type": "error",
     "traceback": [
      "\u001B[1;31m---------------------------------------------------------------------------\u001B[0m",
      "\u001B[1;31mAttributeError\u001B[0m                            Traceback (most recent call last)",
      "\u001B[1;32m<ipython-input-8-c18d30c7bf0e>\u001B[0m in \u001B[0;36m<module>\u001B[1;34m\u001B[0m\n\u001B[0;32m      1\u001B[0m \u001B[1;32mfrom\u001B[0m \u001B[0mmmcv\u001B[0m\u001B[1;33m.\u001B[0m\u001B[0mutils\u001B[0m \u001B[1;32mimport\u001B[0m \u001B[0mRegistry\u001B[0m\u001B[1;33m\u001B[0m\u001B[0m\n\u001B[0;32m      2\u001B[0m \u001B[1;32mfrom\u001B[0m \u001B[0mmmcv\u001B[0m\u001B[1;33m.\u001B[0m\u001B[0mcnn\u001B[0m \u001B[1;32mimport\u001B[0m \u001B[0mMODELS\u001B[0m \u001B[1;32mas\u001B[0m \u001B[0mMMCV_MODELS\u001B[0m\u001B[1;33m\u001B[0m\u001B[0m\n\u001B[1;32m----> 3\u001B[1;33m \u001B[0mMODELS\u001B[0m \u001B[1;33m=\u001B[0m \u001B[0mRegistry\u001B[0m\u001B[1;33m(\u001B[0m\u001B[1;34m'model'\u001B[0m\u001B[1;33m,\u001B[0m \u001B[0mparent\u001B[0m\u001B[1;33m=\u001B[0m\u001B[0mMMCV_MODELS\u001B[0m\u001B[1;33m)\u001B[0m\u001B[1;33m\u001B[0m\u001B[0m\n\u001B[0m\u001B[0;32m      4\u001B[0m \u001B[1;33m\u001B[0m\u001B[0m\n",
      "\u001B[1;32mc:\\users\\art\\pycharmprojects\\course1\\venv-neo\\lib\\site-packages\\mmcv\\utils\\registry.py\u001B[0m in \u001B[0;36m__init__\u001B[1;34m(self, name, build_func, parent, scope)\u001B[0m\n\u001B[0;32m     89\u001B[0m         \u001B[0mself\u001B[0m\u001B[1;33m.\u001B[0m\u001B[0m_module_dict\u001B[0m \u001B[1;33m=\u001B[0m \u001B[0mdict\u001B[0m\u001B[1;33m(\u001B[0m\u001B[1;33m)\u001B[0m\u001B[1;33m\u001B[0m\u001B[0m\n\u001B[0;32m     90\u001B[0m         \u001B[0mself\u001B[0m\u001B[1;33m.\u001B[0m\u001B[0m_children\u001B[0m \u001B[1;33m=\u001B[0m \u001B[0mdict\u001B[0m\u001B[1;33m(\u001B[0m\u001B[1;33m)\u001B[0m\u001B[1;33m\u001B[0m\u001B[0m\n\u001B[1;32m---> 91\u001B[1;33m         \u001B[0mself\u001B[0m\u001B[1;33m.\u001B[0m\u001B[0m_scope\u001B[0m \u001B[1;33m=\u001B[0m \u001B[0mself\u001B[0m\u001B[1;33m.\u001B[0m\u001B[0minfer_scope\u001B[0m\u001B[1;33m(\u001B[0m\u001B[1;33m)\u001B[0m \u001B[1;32mif\u001B[0m \u001B[0mscope\u001B[0m \u001B[1;32mis\u001B[0m \u001B[1;32mNone\u001B[0m \u001B[1;32melse\u001B[0m \u001B[0mscope\u001B[0m\u001B[1;33m\u001B[0m\u001B[0m\n\u001B[0m\u001B[0;32m     92\u001B[0m \u001B[1;33m\u001B[0m\u001B[0m\n\u001B[0;32m     93\u001B[0m         \u001B[1;31m# self.build_func will be set with the following priority:\u001B[0m\u001B[1;33m\u001B[0m\u001B[1;33m\u001B[0m\u001B[0m\n",
      "\u001B[1;32mc:\\users\\art\\pycharmprojects\\course1\\venv-neo\\lib\\site-packages\\mmcv\\utils\\registry.py\u001B[0m in \u001B[0;36minfer_scope\u001B[1;34m()\u001B[0m\n\u001B[0;32m    141\u001B[0m         \u001B[1;31m# inspect.stack() trace where this function is called, the index-2\u001B[0m\u001B[1;33m\u001B[0m\u001B[1;33m\u001B[0m\u001B[0m\n\u001B[0;32m    142\u001B[0m         \u001B[1;31m# indicates the frame where `infer_scope()` is called\u001B[0m\u001B[1;33m\u001B[0m\u001B[1;33m\u001B[0m\u001B[0m\n\u001B[1;32m--> 143\u001B[1;33m         \u001B[0mfilename\u001B[0m \u001B[1;33m=\u001B[0m \u001B[0minspect\u001B[0m\u001B[1;33m.\u001B[0m\u001B[0mgetmodule\u001B[0m\u001B[1;33m(\u001B[0m\u001B[0minspect\u001B[0m\u001B[1;33m.\u001B[0m\u001B[0mstack\u001B[0m\u001B[1;33m(\u001B[0m\u001B[1;33m)\u001B[0m\u001B[1;33m[\u001B[0m\u001B[1;36m2\u001B[0m\u001B[1;33m]\u001B[0m\u001B[1;33m[\u001B[0m\u001B[1;36m0\u001B[0m\u001B[1;33m]\u001B[0m\u001B[1;33m)\u001B[0m\u001B[1;33m.\u001B[0m\u001B[0m__name__\u001B[0m\u001B[1;33m\u001B[0m\u001B[0m\n\u001B[0m\u001B[0;32m    144\u001B[0m         \u001B[0msplit_filename\u001B[0m \u001B[1;33m=\u001B[0m \u001B[0mfilename\u001B[0m\u001B[1;33m.\u001B[0m\u001B[0msplit\u001B[0m\u001B[1;33m(\u001B[0m\u001B[1;34m'.'\u001B[0m\u001B[1;33m)\u001B[0m\u001B[1;33m\u001B[0m\u001B[0m\n\u001B[0;32m    145\u001B[0m         \u001B[1;32mreturn\u001B[0m \u001B[0msplit_filename\u001B[0m\u001B[1;33m[\u001B[0m\u001B[1;36m0\u001B[0m\u001B[1;33m]\u001B[0m\u001B[1;33m\u001B[0m\u001B[0m\n",
      "\u001B[1;31mAttributeError\u001B[0m: 'NoneType' object has no attribute '__name__'"
     ]
    }
   ],
   "source": [
    "from mmcv.utils import Registry\n",
    "from mmcv.cnn import MODELS as MMCV_MODELS\n",
    "MODELS = Registry('model', parent=MMCV_MODELS)"
   ],
   "metadata": {
    "collapsed": false,
    "pycharm": {
     "name": "#%%\n"
    }
   }
  },
  {
   "cell_type": "code",
   "execution_count": null,
   "outputs": [],
   "source": [
    "exit()"
   ],
   "metadata": {
    "collapsed": false,
    "pycharm": {
     "name": "#%%\n"
    }
   }
  }
 ],
 "metadata": {
  "kernelspec": {
   "display_name": "Python 3",
   "language": "python",
   "name": "python3"
  },
  "language_info": {
   "codemirror_mode": {
    "name": "ipython",
    "version": 2
   },
   "file_extension": ".py",
   "mimetype": "text/x-python",
   "name": "python",
   "nbconvert_exporter": "python",
   "pygments_lexer": "ipython2",
   "version": "2.7.6"
  }
 },
 "nbformat": 4,
 "nbformat_minor": 0
}