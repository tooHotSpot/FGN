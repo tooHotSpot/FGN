{
 "cells": [
  {
   "cell_type": "code",
   "execution_count": 1,
   "outputs": [],
   "source": [
    "import os\n",
    "import numpy as np\n",
    "import cv2\n",
    "from tqdm import tqdm\n",
    "import skimage.io as io\n",
    "import matplotlib.pyplot as plt\n",
    "\n",
    "from datasets.fewshotiseg.omniiseg_fst import OMNIFewShotISEG, OMNIISEG"
   ],
   "metadata": {
    "collapsed": false,
    "pycharm": {
     "name": "#%%\n"
    }
   }
  },
  {
   "cell_type": "code",
   "execution_count": 2,
   "outputs": [
    {
     "name": "stdout",
     "output_type": "stream",
     "text": [
      "Total amount of images 8000\n",
      "Total amount of bboxes 8000\n",
      "Total amount of cat_ids 8000\n",
      "Novel cats\n",
      "['B', 'D', 'H', 'I', 'N', 'V']\n",
      "\u001B[38;5;28;1;4mTotal qrys_parents_: 7675\u001B[0m\n",
      "\u001B[38;5;28;1;4mTotal qrys_children: 13552\u001B[0m\n",
      "\u001B[38;5;28;1;4mSampling by children\u001B[0m\n",
      "\u001B[38;5;28;1;4mOrder by children  reduced: 13552 => 13552\u001B[0m\n",
      "\u001B[38;5;28;1;4mRepeating the set of entries 1 times\u001B[0m\n"
     ]
    }
   ],
   "source": [
    "# Hyperparameter\n",
    "k = 3\n",
    "cfg = dict(\n",
    "    ds_base_='OMNIISEG',\n",
    "    ds_base__subset='train',\n",
    "    ds_novel='OMNIISEG',\n",
    "    ds_novel_subset='val',\n",
    "    sampling_origin_ds='OMNIISEG',\n",
    "    sampling_origin_ds_subset='train',\n",
    "    sampling_cats='base_',\n",
    "    first_parents__only=0,\n",
    "    first_children_only=0,\n",
    "    sampling_scenario='children',\n",
    "    repeats=0,\n",
    ")\n",
    "\n",
    "OMNIISEG.root = '../datasets/omniiseg/resources'\n",
    "OMNIFewShotISEG.root = '../datasets/fewshotiseg/resources/omniiseg_fst'\n",
    "ds = OMNIFewShotISEG(config=cfg, read_data=True)"
   ],
   "metadata": {
    "collapsed": false,
    "pycharm": {
     "name": "#%%\n"
    }
   }
  },
  {
   "cell_type": "code",
   "execution_count": 3,
   "outputs": [],
   "source": [
    "### Create an array for all images\n",
    "presence_arr = np.zeros((len(ds.cat_ids), ds.cats_total_amount), dtype=np.uint8)\n",
    "for i in range(len(ds.cat_ids)):\n",
    "    np.add.at(presence_arr[i], ds.cat_ids[i], 1)"
   ],
   "metadata": {
    "collapsed": false,
    "pycharm": {
     "name": "#%%\n"
    }
   }
  },
  {
   "cell_type": "code",
   "execution_count": 4,
   "outputs": [
    {
     "name": "stdout",
     "output_type": "stream",
     "text": [
      "Amount of images with no cats to delete 4483\n"
     ]
    }
   ],
   "source": [
    "# 1. Select a subset of images which does not have cats to delete at all\n",
    "cats_to_del__in = np.array(presence_arr[:, ds.cats_to_del_]).sum(axis=-1)\n",
    "imgs_no_cats_to_del_ = np.where(cats_to_del__in == 0)[0]\n",
    "print('Amount of images with no cats to delete', len(imgs_no_cats_to_del_))"
   ],
   "metadata": {
    "collapsed": false,
    "pycharm": {
     "name": "#%%\n"
    }
   }
  },
  {
   "cell_type": "code",
   "execution_count": 5,
   "outputs": [
    {
     "name": "stdout",
     "output_type": "stream",
     "text": [
      "Amount of instances of categories to save for each image\n",
      "[3 3 3 ... 2 2 2]\n"
     ]
    }
   ],
   "source": [
    "# 2. Sort selected images by the amount of instances on an image (in descending order)\n",
    "total_objects_amount = presence_arr[imgs_no_cats_to_del_, :].sum(axis=-1)\n",
    "indices = np.argsort(total_objects_amount)[::-1]\n",
    "imgs_no_cats_to_del__desc = imgs_no_cats_to_del_[indices]\n",
    "print('Amount of instances of categories to save for each image')\n",
    "print(presence_arr[imgs_no_cats_to_del__desc].sum(axis=-1))"
   ],
   "metadata": {
    "collapsed": false,
    "pycharm": {
     "name": "#%%\n"
    }
   }
  },
  {
   "cell_type": "code",
   "execution_count": 6,
   "outputs": [
    {
     "name": "stdout",
     "output_type": "stream",
     "text": [
      "The same as the last but after filtration of by [0; 3K] borders\n",
      "[3 3 3 ... 2 2 2]\n"
     ]
    }
   ],
   "source": [
    "# 3. Remove images with no objects annotated and with more than 3K objects of the same class\n",
    "indices = np.nonzero(\n",
    "    (presence_arr[imgs_no_cats_to_del__desc].sum(axis=-1)) *\n",
    "    (presence_arr[imgs_no_cats_to_del__desc].max(axis=-1) <= 3 * k)\n",
    ")\n",
    "imgs_no_cats_to_del__desc_non_zero = imgs_no_cats_to_del__desc[indices]\n",
    "imgs_pool = presence_arr[imgs_no_cats_to_del__desc_non_zero]\n",
    "print('The same as the last but after filtration of by [0; 3K] borders')\n",
    "print(imgs_pool.sum(axis=-1))"
   ],
   "metadata": {
    "collapsed": false,
    "pycharm": {
     "name": "#%%\n"
    }
   }
  },
  {
   "cell_type": "code",
   "execution_count": 7,
   "outputs": [
    {
     "name": "stdout",
     "output_type": "stream",
     "text": [
      "Images pool array shape with categories to delete (4483, 6)\n",
      "0 0\n"
     ]
    }
   ],
   "source": [
    "# 4. Check that images in a selection do not have VOC class examples (and crowd examples also)\n",
    "selection = imgs_pool[:, ds.cats_to_del_]\n",
    "print('Images pool array shape with categories to delete', selection.shape)\n",
    "print(selection.min(), selection.max())\n",
    "del selection"
   ],
   "metadata": {
    "collapsed": false,
    "pycharm": {
     "name": "#%%\n"
    }
   }
  },
  {
   "cell_type": "code",
   "execution_count": 8,
   "outputs": [
    {
     "name": "stdout",
     "output_type": "stream",
     "text": [
      "Amount of instances in a dataset subselection\n",
      "[507 516 471 484 490 503 526 516 527 513 512 475 490 497 469 473 489 478\n",
      " 481 488]\n",
      "Critical categories which do not have 9 instances\n",
      "Middle indices []\n",
      "Real indices []\n"
     ]
    }
   ],
   "source": [
    "# 5. Check that images in a selection have all cats to save with at least K examples for each category\n",
    "selection = imgs_pool[:, ds.cats_to_save]\n",
    "cats_to_save_only_presence_vec = selection.sum(axis=0)\n",
    "print('Amount of instances in a dataset subselection')\n",
    "print(cats_to_save_only_presence_vec)\n",
    "indices_no_3k = np.where(cats_to_save_only_presence_vec < 3 * k)[0]\n",
    "print(f'Critical categories which do not have {3 * k} instances')\n",
    "print('Middle indices', indices_no_3k)\n",
    "print('Real indices', ds.cats_to_save[indices_no_3k])"
   ],
   "metadata": {
    "collapsed": false,
    "pycharm": {
     "name": "#%%\n"
    }
   }
  },
  {
   "cell_type": "code",
   "execution_count": 9,
   "outputs": [
    {
     "name": "stdout",
     "output_type": "stream",
     "text": [
      "0 {0: 3989, 1: 481, 2: 13}\n",
      "2 {0: 3987, 1: 476, 2: 20}\n",
      "4 {0: 4032, 1: 431, 2: 20}\n",
      "5 {0: 4014, 1: 454, 2: 15}\n",
      "6 {0: 4001, 1: 474, 2: 8}\n",
      "9 {0: 3997, 1: 469, 2: 17}\n",
      "10 {0: 3975, 1: 490, 2: 18}\n",
      "11 {0: 3987, 1: 477, 2: 18, 3: 1}\n",
      "12 {0: 3971, 1: 497, 2: 15}\n",
      "14 {0: 3990, 1: 473, 2: 20}\n",
      "15 {0: 3986, 1: 482, 2: 15}\n",
      "16 {0: 4021, 1: 449, 2: 13}\n",
      "17 {0: 4004, 1: 468, 2: 11}\n",
      "18 {0: 4003, 1: 463, 2: 17}\n",
      "19 {0: 4034, 1: 430, 2: 18, 3: 1}\n",
      "20 {0: 4016, 1: 461, 2: 6}\n",
      "22 {0: 4013, 1: 451, 2: 19}\n",
      "23 {0: 4019, 1: 450, 2: 14}\n",
      "24 {0: 4019, 1: 447, 2: 17}\n",
      "25 {0: 4011, 1: 456, 2: 16}\n"
     ]
    }
   ],
   "source": [
    "# 6. For each category, check amount of images with 1 instance, 2 instances, ...\n",
    "for cat_id in ds.cats_to_save:\n",
    "    column = imgs_pool[:, cat_id]\n",
    "    # appearings = {}\n",
    "    # for i in range(1, max(column) + 1):\n",
    "    #     appearings[i] = np.count_nonzero(column == i)\n",
    "    appearings = dict(zip(*np.unique(column, return_counts=True)))\n",
    "    print(cat_id, appearings)\n",
    "    del appearings\n",
    "del cat_id\n",
    "# Seems that there are a lot images with 1 and 2 instances"
   ],
   "metadata": {
    "collapsed": false,
    "pycharm": {
     "name": "#%%\n"
    }
   }
  },
  {
   "cell_type": "code",
   "execution_count": 10,
   "outputs": [
    {
     "name": "stdout",
     "output_type": "stream",
     "text": [
      "Instances, images with this amount of instances\n",
      "[[   1  170]\n",
      " [   2 3518]\n",
      " [   3  795]]\n"
     ]
    }
   ],
   "source": [
    "# 7. Estimating how difficult it may be to fold the selection\n",
    "# 7.1. Count how many instances do images across the dataset contain\n",
    "unique_cats_ids_on_img = (imgs_pool > 0).sum(axis=-1)\n",
    "unique_cats_ids_amount, unique_cats_ids_amount_counts = np.unique(unique_cats_ids_on_img, return_counts=True)\n",
    "print('Instances, images with this amount of instances')\n",
    "print(np.array(list(zip(unique_cats_ids_amount, unique_cats_ids_amount_counts))))"
   ],
   "metadata": {
    "collapsed": false,
    "pycharm": {
     "name": "#%%\n"
    }
   }
  },
  {
   "cell_type": "code",
   "execution_count": 11,
   "outputs": [
    {
     "name": "stdout",
     "output_type": "stream",
     "text": [
      "Amount of images with only 1 category 170\n",
      "Selection shape (170, 26)\n",
      "Cat  0 {0: 164, 2: 6}\n",
      "Cat  2 {0: 158, 2: 12}\n",
      "Cat  4 {0: 158, 2: 12}\n",
      "Cat  5 {0: 162, 2: 8}\n",
      "Cat  6 {0: 163, 2: 7}\n",
      "Cat  9 {0: 163, 2: 7}\n",
      "Cat 10 {0: 163, 2: 7}\n",
      "Cat 11 {0: 160, 2: 9, 3: 1}\n",
      "Cat 12 {0: 159, 2: 11}\n",
      "Cat 14 {0: 161, 2: 9}\n",
      "Cat 15 {0: 164, 2: 6}\n",
      "Cat 16 {0: 163, 2: 7}\n",
      "Cat 17 {0: 163, 2: 7}\n",
      "Cat 18 {0: 160, 2: 10}\n",
      "Cat 19 {0: 157, 2: 12, 3: 1}\n",
      "Cat 20 {0: 166, 2: 4}\n",
      "Cat 22 {0: 160, 2: 10}\n",
      "Cat 23 {0: 163, 2: 7}\n",
      "Cat 24 {0: 163, 2: 7}\n",
      "Cat 25 {0: 160, 2: 10}\n"
     ]
    }
   ],
   "source": [
    "# 7.2. For each category, count images where this category is the only 1 represented\n",
    "indices_only_1cat = np.where((imgs_pool > 0).sum(axis=-1) == 1)[0]\n",
    "print('Amount of images with only 1 category', len(indices_only_1cat))\n",
    "\n",
    "selection = imgs_pool[indices_only_1cat]\n",
    "print('Selection shape', selection.shape)\n",
    "\n",
    "for cat_id in ds.cats_to_save:\n",
    "    column = selection[:, cat_id]\n",
    "    unique, counts = np.unique(column, return_counts=True)\n",
    "    print(f'Cat {cat_id:2}', dict(zip(unique, counts)))\n",
    "    del unique, counts\n",
    "del selection"
   ],
   "metadata": {
    "collapsed": false,
    "pycharm": {
     "name": "#%%\n"
    }
   }
  },
  {
   "cell_type": "code",
   "execution_count": 16,
   "outputs": [
    {
     "name": "stdout",
     "output_type": "stream",
     "text": [
      "Cat 19 total images with this cat 449\n",
      "Checked ONE image and everything is OK\n",
      "Finished for this cat\n",
      "Cat 4 total images with this cat 451\n",
      "Checked ONE image and everything is OK\n",
      "Finished for this cat\n",
      "Cat 20 total images with this cat 467\n",
      "Checked ONE image and everything is OK\n",
      "Finished for this cat\n",
      "Cat 16 total images with this cat 462\n",
      "Checked ONE image and everything is OK\n",
      "Finished for this cat\n",
      "Cat 23 total images with this cat 464\n",
      "Checked ONE image and everything is OK\n",
      "Finished for this cat\n",
      "Cat 24 total images with this cat 464\n",
      "Checked ONE image and everything is OK\n",
      "Finished for this cat\n",
      "Cat 5 total images with this cat 469\n",
      "Checked ONE image and everything is OK\n",
      "Finished for this cat\n",
      "Cat 25 total images with this cat 472\n",
      "Checked ONE image and everything is OK\n",
      "Finished for this cat\n",
      "Cat 22 total images with this cat 470\n",
      "Checked ONE image and everything is OK\n",
      "Finished for this cat\n",
      "Cat 6 total images with this cat 482\n",
      "Checked ONE image and everything is OK\n",
      "Finished for this cat\n",
      "Cat 17 total images with this cat 479\n",
      "Checked ONE image and everything is OK\n",
      "Finished for this cat\n",
      "Cat 18 total images with this cat 480\n",
      "Checked ONE image and everything is OK\n",
      "Finished for this cat\n",
      "Cat 9 total images with this cat 486\n",
      "Checked ONE image and everything is OK\n",
      "Finished for this cat\n",
      "Cat 0 total images with this cat 494\n",
      "Checked ONE image and everything is OK\n",
      "Finished for this cat\n",
      "Cat 15 total images with this cat 497\n",
      "Checked ONE image and everything is OK\n",
      "Finished for this cat\n",
      "Cat 14 total images with this cat 493\n",
      "Checked ONE image and everything is OK\n",
      "Finished for this cat\n",
      "Cat 11 total images with this cat 496\n",
      "Checked ONE image and everything is OK\n",
      "Finished for this cat\n",
      "Cat 2 total images with this cat 496\n",
      "Checked ONE image and everything is OK\n",
      "Finished for this cat\n",
      "Cat 10 total images with this cat 508\n",
      "Checked ONE image and everything is OK\n",
      "Finished for this cat\n",
      "Cat 12 total images with this cat 512\n",
      "Checked ONE image and everything is OK\n",
      "Finished for this cat\n",
      "*** Finished for all cats *** \n"
     ]
    }
   ],
   "source": [
    "# 8. Sort by the amount of representation\n",
    "imgs_set_hidden_indexes = set()\n",
    "total_cats_insts_in_set = np.zeros(ds.cats_total_amount)\n",
    "total_cats_insts_in_set[ds.cats_to_del_] = -1\n",
    "order = np.argsort(cats_to_save_only_presence_vec)\n",
    "cats_to_save_ascending_cat_ids = ds.cats_to_save[order]\n",
    "total_required = 3 * k\n",
    "\n",
    "for n, cat_id in enumerate(cats_to_save_ascending_cat_ids):\n",
    "    # Select images which have this category\n",
    "    selection = imgs_pool[:, cat_id]\n",
    "    hidden_indices = np.where(selection != 0)[0]\n",
    "    real_indices = imgs_no_cats_to_del__desc_non_zero[hidden_indices]\n",
    "    represented = imgs_pool[hidden_indices]\n",
    "    print(f'Cat {cat_id} total images with this cat', len(represented))\n",
    "\n",
    "    selected_num_this_cat_examples = represented[:, cat_id]\n",
    "    selected_num_each_cat_examples = (represented > 0).sum(axis=-1)\n",
    "    selected_triple = np.array(list(zip(selected_num_this_cat_examples,\n",
    "                                        selected_num_each_cat_examples,\n",
    "                                        hidden_indices)))\n",
    "    groups = {amount: [] for amount in np.unique(selected_num_this_cat_examples)}\n",
    "    for amount in groups:\n",
    "        amount_group_indices = np.where(selected_triple[:, 0] == amount)[0]\n",
    "        amount_group = selected_triple[amount_group_indices, :]\n",
    "        if len(amount_group) > 1:\n",
    "            order = np.argsort(amount_group[:, 1])\n",
    "            amount_group = amount_group[order]\n",
    "        groups[amount] = amount_group\n",
    "\n",
    "    # Check that all images with these indices have this category (even show images)\n",
    "    check_required = False\n",
    "    for real_index in real_indices:\n",
    "        cat_ids = ds.cat_ids[real_index]\n",
    "        assert cat_id in cat_ids\n",
    "        if not check_required:\n",
    "            print('Checked ONE image and everything is OK')\n",
    "            break\n",
    "    if check_required:\n",
    "        print('Checked ALL images and everything is OK')\n",
    "\n",
    "    # Perform a selection\n",
    "    triples_selected = []\n",
    "    for amount in sorted(groups):\n",
    "        if total_cats_insts_in_set[cat_id] == total_required:\n",
    "            # print('Out of a main loop with success')\n",
    "            break\n",
    "        # print('Trying amount', amount)\n",
    "        while total_cats_insts_in_set[cat_id] + amount > total_required:\n",
    "            if len(triples_selected) == 0:\n",
    "                raise NotImplementedError\n",
    "            # Two strategies: random and try to delete less\n",
    "            # triple_index = np.random.choice(len(triples_selected), replace=False)\n",
    "            triple_index = 0\n",
    "            triple = triples_selected[triple_index]\n",
    "            hidden_img_index = triple[2]\n",
    "            imgs_set_hidden_indexes.remove(hidden_img_index)\n",
    "            total_cats_insts_in_set -= imgs_pool[hidden_img_index]\n",
    "            del triples_selected[triple_index]\n",
    "            print('Deleted triple', triple)\n",
    "\n",
    "        for triple in groups[amount]:\n",
    "            _, _, hidden_img_index = triple\n",
    "            cur_img_cats = imgs_pool[hidden_img_index]\n",
    "            assert cur_img_cats[cat_id] == amount\n",
    "            summary = total_cats_insts_in_set + cur_img_cats\n",
    "            if max(summary) > total_required:\n",
    "                # print('More instances than required', summary)\n",
    "                continue\n",
    "            else:\n",
    "                total_cats_insts_in_set = summary\n",
    "                imgs_set_hidden_indexes.add(hidden_img_index)\n",
    "                triples_selected.append(triple)\n",
    "                # print('Added ', triple)\n",
    "                if total_cats_insts_in_set[cat_id] == total_required:\n",
    "                    success = True\n",
    "                    # print('Chosen successfully')\n",
    "                    break\n",
    "\n",
    "        # print('Finished with amount', amount)\n",
    "        # print(np.array(triples_selected))\n",
    "    print('Finished for this cat')\n",
    "\n",
    "print('*** Finished for all cats *** ')\n"
   ],
   "metadata": {
    "collapsed": false,
    "pycharm": {
     "name": "#%%\n"
    }
   }
  },
  {
   "cell_type": "code",
   "execution_count": 13,
   "outputs": [
    {
     "name": "stdout",
     "output_type": "stream",
     "text": [
      "Total images in the set 90\n",
      "Amount of class instances depicted\n",
      " [ 9. -1.  9. -1.  9.  9.  9. -1. -1.  9.  9.  9.  9. -1.  9.  9.  9.  9.\n",
      "  9.  9.  9. -1.  9.  9.  9.  9.]\n",
      "[9 0 9 0 9 9 9 0 0 9 9 9 9 0 9 9 9 9 9 9 9 0 9 9 9 9]\n",
      "[9 0 9 0 9 9 9 0 0 9 9 9 9 0 9 9 9 9 9 9 9 0 9 9 9 9]\n"
     ]
    }
   ],
   "source": [
    "print('Total images in the set', len(imgs_set_hidden_indexes))\n",
    "print('Amount of class instances depicted\\n', total_cats_insts_in_set)\n",
    "imgs_list_hidden_indexes = list(imgs_set_hidden_indexes)\n",
    "real_indices = imgs_no_cats_to_del__desc_non_zero[imgs_list_hidden_indexes]\n",
    "print(imgs_pool[imgs_list_hidden_indexes].sum(axis=0))\n",
    "print(presence_arr[real_indices].sum(axis=0))"
   ],
   "metadata": {
    "collapsed": false,
    "pycharm": {
     "name": "#%%\n"
    }
   }
  },
  {
   "cell_type": "code",
   "execution_count": 14,
   "outputs": [
    {
     "name": "stdout",
     "output_type": "stream",
     "text": [
      "['006541.jpg', '006353.jpg', '006341.jpg', '006340.jpg', '006447.jpg']\n"
     ]
    }
   ],
   "source": [
    "imgs_sps_selected = [ds.imgs_sps[i] for i in real_indices]\n",
    "print(imgs_sps_selected[:5])"
   ],
   "metadata": {
    "collapsed": false,
    "pycharm": {
     "name": "#%%\n"
    }
   }
  },
  {
   "cell_type": "code",
   "execution_count": 15,
   "outputs": [
    {
     "name": "stdout",
     "output_type": "stream",
     "text": [
      "JSON WRITE-SAFE FAIL ../datasets/fewshotiseg/resources/omniiseg_fst/OMNIISEG2OMNIISEG_OMNIISEG_train_base__K3_FINETUNE_REAL_INDICES.json\n",
      "Saved real indices to file: ../datasets/fewshotiseg/resources/omniiseg_fst/OMNIISEG2OMNIISEG_OMNIISEG_train_base__K3_FINETUNE_REAL_INDICES.json\n",
      "JSON WRITE-SAFE FAIL ../datasets/fewshotiseg/resources/omniiseg_fst/OMNIISEG2OMNIISEG_OMNIISEG_train_base__K3_FINETUNE_IMGS_SPS.json\n",
      "Saved images short paths to file:  ../datasets/fewshotiseg/resources/omniiseg_fst/OMNIISEG2OMNIISEG_OMNIISEG_train_base__K3_FINETUNE_IMGS_SPS.json\n"
     ]
    }
   ],
   "source": [
    "from cp_utils.cp_dir_file_ops import write_json_safe\n",
    "\n",
    "prefix = f'{ds.setup}_{ds.sampling_origin_ds}_{ds.sampling_origin_ds_subset}_{ds.sampling_cats}_K{k}_'\n",
    "file_fp = os.path.join(ds.root, prefix + 'FINETUNE_REAL_INDICES.json')\n",
    "write_json_safe(file_fp, list(real_indices))\n",
    "print('Saved real indices to file:', file_fp)\n",
    "file_fp = os.path.join(ds.root, prefix + 'FINETUNE_IMGS_SPS.json')\n",
    "write_json_safe(file_fp, imgs_sps_selected)\n",
    "print('Saved images short paths to file: ', file_fp)"
   ],
   "metadata": {
    "collapsed": false,
    "pycharm": {
     "name": "#%%\n"
    }
   }
  },
  {
   "cell_type": "code",
   "execution_count": 15,
   "outputs": [],
   "source": [],
   "metadata": {
    "collapsed": false,
    "pycharm": {
     "name": "#%%\n"
    }
   }
  }
 ],
 "metadata": {
  "kernelspec": {
   "display_name": "Python 3",
   "language": "python",
   "name": "python3"
  },
  "language_info": {
   "codemirror_mode": {
    "name": "ipython",
    "version": 2
   },
   "file_extension": ".py",
   "mimetype": "text/x-python",
   "name": "python",
   "nbconvert_exporter": "python",
   "pygments_lexer": "ipython2",
   "version": "2.7.6"
  }
 },
 "nbformat": 4,
 "nbformat_minor": 0
}