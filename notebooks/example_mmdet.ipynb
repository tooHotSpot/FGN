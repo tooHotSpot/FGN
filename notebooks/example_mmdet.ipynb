{
 "cells": [
  {
   "cell_type": "code",
   "execution_count": null,
   "metadata": {
    "collapsed": true
   },
   "outputs": [],
   "source": [
    "from mmdet.apis import init_detector, inference_detector\n",
    "\n",
    "config_file = '../mmdetection/configs/mask_rcnn/mask_rcnn_r50_caffe_c4_1x_coco.py'\n",
    "device = 'cuda:0'\n",
    "# init a detector\n",
    "model = init_detector(config_file, device=device)\n",
    "# inference the demo image\n",
    "inference_detector(model, '../mmdetection/demo/demo.jpg')"
   ]
  },
  {
   "cell_type": "code",
   "execution_count": 2,
   "outputs": [],
   "source": [
    "from mmcv import Config\n",
    "from mmdet.models.backbones import ResNet\n",
    "from mmdet.models.dense_heads import RPNHead\n",
    "from mmdet.models.detectors import RPN\n",
    "from mmdet.models.detectors import FasterRCNN\n",
    "\n",
    "bbone = ResNet(depth=18,\n",
    "               in_channels=3,\n",
    "               norm_cfg=dict(type='GN', requires_grad=True, num_groups=32),\n",
    "               deep_stem=True,\n",
    "               style='pytorch',\n",
    "               avg_down=True,\n",
    "               zero_init_residual=True,\n",
    "               init_cfg=dict())\n",
    "\n",
    "# rpn_head = RPNHead(in_channels=256,\n",
    "#                    init_cfg=dict(type='Normal', layer='Conv2d', std=0.01))\n",
    "\n",
    "# rpn = RPN(backbone=None,\n",
    "#           neck=None,\n",
    "#           rpn_head=rpn_head,\n",
    "#           train_cfg=Config(dict(type='Some')),\n",
    "#           test_cfg=Config(dict(type='Some')),\n",
    "#           pretrained=None,\n",
    "#           init_cfg=None)"
   ],
   "metadata": {
    "collapsed": false,
    "pycharm": {
     "name": "#%%\n"
    }
   }
  },
  {
   "cell_type": "code",
   "execution_count": null,
   "outputs": [],
   "source": [
    "import numpy as np\n",
    "import torch\n",
    "\n",
    "img = torch.zeros((1, 3, 256, 256), dtype=torch.float32)\n",
    "out = bbone.forward(img)\n",
    "print(out.shape)\n"
   ],
   "metadata": {
    "collapsed": false,
    "pycharm": {
     "name": "#%%\n"
    }
   }
  }
 ],
 "metadata": {
  "kernelspec": {
   "display_name": "Python 3",
   "language": "python",
   "name": "python3"
  },
  "language_info": {
   "codemirror_mode": {
    "name": "ipython",
    "version": 2
   },
   "file_extension": ".py",
   "mimetype": "text/x-python",
   "name": "python",
   "nbconvert_exporter": "python",
   "pygments_lexer": "ipython2",
   "version": "2.7.6"
  }
 },
 "nbformat": 4,
 "nbformat_minor": 0
}