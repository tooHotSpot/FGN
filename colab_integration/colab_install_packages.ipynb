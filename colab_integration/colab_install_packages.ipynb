{
 "cells": [
  {
   "cell_type": "code",
   "execution_count": null,
   "outputs": [],
   "source": [
    "#@title Install packages { vertical-output: true, form-width: \"500px\" }\n",
    "\n",
    "import IPython\n",
    "from IPython.display import clear_output\n",
    "from IPython import get_ipython\n",
    "\n",
    "try:\n",
    "    from colab_time_utils import *\n",
    "except ModuleNotFoundError:\n",
    "    print('In COLAB')\n",
    "    from drive.MyDrive.ColabNotebooks.Course1.colab_integration.colab_time_utils import *\n",
    "\n",
    "try:\n",
    "    import tensorboardX\n",
    "    from printy import printy\n",
    "    import mmcv\n",
    "    import mmdet\n",
    "    ! pip3 list | grep torch\n",
    "    ! pip3 list | grep tensorboardX\n",
    "    ! pip3 list | grep printy\n",
    "    ! pip3 list | grep mmcv\n",
    "    ! pip3 list | grep mmdet\n",
    "    ! pip3 list | grep imgaug\n",
    "    import imgaug\n",
    "    if imgaug.__version__ != '0.4.0':\n",
    "        raise ImportError\n",
    "except ImportError:\n",
    "    ! pip3 install printy tensorboardX -q\n",
    "    ! pip install mmcv-full==1.3.16 -f https://download.openmmlab.com/mmcv/dist/cu111/torch1.10.0/index.html\n",
    "    ! pip3 install mmdet==2.18.0\n",
    "    ! pip3 install imgaug==0.4.0 --upgrade --force-reinstall\n",
    "\n",
    "print('')\n",
    "\n",
    "print('Setting PYTHONPATH')\n",
    "import os\n",
    "assert os.path.isdir('/content/drive/MyDrive/ColabNotebooks/Course1/')\n",
    "! echo $PYTHONPATH\n",
    "%env PYTHONPATH=/env/python:/content/drive/MyDrive/ColabNotebooks/Course1/\n",
    "! echo $PYTHONPATH\n",
    "print('')\n",
    "\n",
    "from psutil import virtual_memory\n",
    "ram_gb = virtual_memory().total / 1e9\n",
    "print('Your runtime has {:.1f} gigabytes of available RAM\\n'.format(ram_gb))\n",
    "\n",
    "if ram_gb < 20:\n",
    "    print('Not using a high-RAM runtime')\n",
    "else:\n",
    "    print('You are using a high-RAM runtime!')\n",
    "\n",
    "gpu_info = !nvidia-smi\n",
    "gpu_info = '\\n'.join(gpu_info)\n",
    "if gpu_info.find('failed') >= 0:\n",
    "    print('Not connected to a GPU')\n",
    "else:\n",
    "    print(gpu_info)\n",
    "\n",
    "print('Current time', t_now())"
   ],
   "metadata": {
    "collapsed": false,
    "pycharm": {
     "name": "#%%\n"
    }
   }
  }
 ],
 "metadata": {
  "kernelspec": {
   "display_name": "Python 3",
   "language": "python",
   "name": "python3"
  },
  "language_info": {
   "codemirror_mode": {
    "name": "ipython",
    "version": 2
   },
   "file_extension": ".py",
   "mimetype": "text/x-python",
   "name": "python",
   "nbconvert_exporter": "python",
   "pygments_lexer": "ipython2",
   "version": "2.7.6"
  }
 },
 "nbformat": 4,
 "nbformat_minor": 0
}