{
 "cells": [
  {
   "cell_type": "code",
   "execution_count": null,
   "metadata": {
    "collapsed": true
   },
   "outputs": [],
   "source": [
    "#  Unzip MNISTISEG archives\n",
    "! unzip -q /content/drive/MyDrive/ColabNotebooks/Course1/datasets/mnistiseg/resources/val.zip -d /content/drive/MyDrive/ColabNotebooks/Course1/datasets/mnistiseg/resources/\n",
    "! unzip -q /content/drive/MyDrive/ColabNotebooks/Course1/datasets/mnistiseg/resources/test.zip -d /content/drive/MyDrive/ColabNotebooks/Course1/datasets/mnistiseg/resources/\n",
    "! unzip -q /content/drive/MyDrive/ColabNotebooks/Course1/datasets/mnistiseg/resources/train.zip -d /content/drive/MyDrive/ColabNotebooks/Course1/datasets/mnistiseg/resources/\n",
    "\n",
    "#  Unzip OMNIISEG archives\n",
    "! unzip -q /content/drive/MyDrive/ColabNotebooks/Course1/datasets/omniiseg/resources/val.zip -d /content/drive/MyDrive/ColabNotebooks/Course1/datasets/omniiseg/resources/\n",
    "! unzip -q /content/drive/MyDrive/ColabNotebooks/Course1/datasets/omniiseg/resources/test.zip -d /content/drive/MyDrive/ColabNotebooks/Course1/datasets/omniiseg/resources/\n",
    "! unzip -q /content/drive/MyDrive/ColabNotebooks/Course1/datasets/omniiseg/resources/train.zip -d /content/drive/MyDrive/ColabNotebooks/Course1/datasets/omniiseg/resources/"
   ]
  }
 ],
 "metadata": {
  "kernelspec": {
   "display_name": "Python 3",
   "language": "python",
   "name": "python3"
  },
  "language_info": {
   "codemirror_mode": {
    "name": "ipython",
    "version": 2
   },
   "file_extension": ".py",
   "mimetype": "text/x-python",
   "name": "python",
   "nbconvert_exporter": "python",
   "pygments_lexer": "ipython2",
   "version": "2.7.6"
  }
 },
 "nbformat": 4,
 "nbformat_minor": 0
}