{
 "cells": [
  {
   "cell_type": "code",
   "execution_count": null,
   "outputs": [],
   "source": [
    "# @title NVIDIA Apex Install\n",
    "\n",
    "import os\n",
    "os.chdir('/content')\n",
    "if not os.path.exists('apex'):\n",
    "  ! git clone https://github.com/NVIDIA/apex\n",
    "\n",
    "try:\n",
    "  from apex import amp\n",
    "  print('Already installed')\n",
    "except (ModuleNotFoundError, ImportError):\n",
    "  os.chdir('/content/apex')\n",
    "  ! pip install -q --disable-pip-version-check --no-cache-dir --global-option=\"--cpp_ext\" --global-option=\"--cuda_ext\" ./"
   ],
   "metadata": {
    "collapsed": false,
    "pycharm": {
     "name": "#%%\n"
    }
   }
  }
 ],
 "metadata": {
  "kernelspec": {
   "display_name": "Python 3",
   "language": "python",
   "name": "python3"
  },
  "language_info": {
   "codemirror_mode": {
    "name": "ipython",
    "version": 2
   },
   "file_extension": ".py",
   "mimetype": "text/x-python",
   "name": "python",
   "nbconvert_exporter": "python",
   "pygments_lexer": "ipython2",
   "version": "2.7.6"
  }
 },
 "nbformat": 4,
 "nbformat_minor": 0
}