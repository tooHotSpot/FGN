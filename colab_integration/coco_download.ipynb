{
 "cells": [
  {
   "cell_type": "code",
   "execution_count": null,
   "outputs": [],
   "source": [
    "#@title Loading COCO { vertical-output: true, form-width: \"500px\" }\n",
    "\n",
    "import os\n",
    "\n",
    "try:\n",
    "    from colab_time_utils import *\n",
    "except ModuleNotFoundError:\n",
    "    print('In COLAB')\n",
    "\n",
    "if not os.path.exists('COCO'):\n",
    "    ! mkdir -p /content/COCO\n",
    "    print('Created the /content/COCO dir')\n",
    "else:\n",
    "    print('/content/COCO dir already exists')\n",
    "\n",
    "if not os.path.exists('/content/COCO/train2017.zip'):\n",
    "    t1 = t_now()\n",
    "    print('Start to copy COCO files')\n",
    "    ! cp -r '/content/drive/My Drive/Datasets/COCO' /content\n",
    "    print('Finished in ', t_diff(t1))\n",
    "else:\n",
    "    print('COCO files are already copied')\n",
    "\n",
    "if not os.path.exists('/content/COCO/train2017') or \\\n",
    "        len(os.listdir('/content/COCO/train2017')) != 118287:\n",
    "    t1 = t_now()\n",
    "    print('Started to unpack COCO TRAIN archive (~6 minutes)')\n",
    "    ! unzip -q /content/COCO/train2017.zip -d /content/COCO/\n",
    "    print('Finished in ', t_diff(t1))\n",
    "else:\n",
    "    print('COCO TRAIN archive is already unpacked')\n",
    "\n",
    "if not os.path.exists('/content/COCO/val2017') or \\\n",
    "        len(os.listdir('/content/COCO/val2017')) != 5000:\n",
    "    t1 = t_now()\n",
    "    print('Started to unpack COCO VAL archive')\n",
    "    ! unzip -q /content/COCO/val2017.zip -d /content/COCO/\n",
    "    print('Finished in ', t_diff(t1))\n",
    "else:\n",
    "    print('COCO VAL archive is already unpacked')\n",
    "\n",
    "print('Listing DRIVE COCO dir')\n",
    "! ls -lh '/content/drive/My Drive/Datasets/COCO'\n",
    "\n",
    "print('Listing COLAB COCO dir')\n",
    "! ls -lh '/content/COCO'\n",
    "\n",
    "print('OK')\n"
   ],
   "metadata": {
    "collapsed": false,
    "pycharm": {
     "name": "#%%\n"
    }
   }
  }
 ],
 "metadata": {
  "kernelspec": {
   "display_name": "Python 3",
   "language": "python",
   "name": "python3"
  },
  "language_info": {
   "codemirror_mode": {
    "name": "ipython",
    "version": 2
   },
   "file_extension": ".py",
   "mimetype": "text/x-python",
   "name": "python",
   "nbconvert_exporter": "python",
   "pygments_lexer": "ipython2",
   "version": "2.7.6"
  }
 },
 "nbformat": 4,
 "nbformat_minor": 0
}