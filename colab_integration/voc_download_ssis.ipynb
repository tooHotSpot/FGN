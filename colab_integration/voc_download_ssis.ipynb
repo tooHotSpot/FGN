{
 "cells": [
  {
   "cell_type": "code",
   "execution_count": null,
   "outputs": [],
   "source": [
    "#@title Loading VOC SSIS { vertical-output: true, form-width: \"500px\" }\n",
    "\n",
    "import os\n",
    "\n",
    "try:\n",
    "    from colab_time_utils import *\n",
    "except ModuleNotFoundError:\n",
    "    print('In COLAB')\n",
    "\n",
    "if not os.path.exists('/content/VOCtrainval_11-May-2012.SSIS.tar'):\n",
    "    t1 = t_now()\n",
    "    print('Start to copy VOC archive')\n",
    "    ! cp '/content/drive/My Drive/Datasets/VOCtrainval_11-May-2012.SSIS.tar' '/content/VOCtrainval_11-May-2012.SSIS.tar'\n",
    "    print('Finished in ', t_diff(t1))\n",
    "else:\n",
    "    print('VOC archive os already copied')\n",
    "\n",
    "if not os.path.exists('/content/VOC2012') or \\\n",
    "        len(os.listdir('/content/VOC2012')) != 5 or \\\n",
    "        len(os.listdir('/content/VOC2012/JPEGImages')) != 2913:\n",
    "    t1 = t_now()\n",
    "    print('Started to unpack VOC archive')\n",
    "    ! tar -xf /content/VOCtrainval_11-May-2012.SSIS.tar\n",
    "    print('Finished in ', t_diff(t1))\n",
    "else:\n",
    "    print('VOC archive is already unpacked')\n",
    "\n",
    "print('Listing COLAB VOC dir')\n",
    "! ls -lh '/content/VOC2012'\n",
    "\n",
    "print('OK')\n"
   ],
   "metadata": {
    "collapsed": false,
    "pycharm": {
     "name": "#%%\n"
    }
   }
  }
 ],
 "metadata": {
  "kernelspec": {
   "display_name": "Python 3",
   "language": "python",
   "name": "python3"
  },
  "language_info": {
   "codemirror_mode": {
    "name": "ipython",
    "version": 2
   },
   "file_extension": ".py",
   "mimetype": "text/x-python",
   "name": "python",
   "nbconvert_exporter": "python",
   "pygments_lexer": "ipython2",
   "version": "2.7.6"
  }
 },
 "nbformat": 4,
 "nbformat_minor": 0
}